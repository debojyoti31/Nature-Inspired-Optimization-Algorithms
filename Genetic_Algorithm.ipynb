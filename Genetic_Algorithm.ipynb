{
 "cells": [
  {
   "cell_type": "markdown",
   "metadata": {},
   "source": [
    "**Genetic Algoritn Implementation :**\n",
    "<br> Select two Mutually Exclusive and Exhaustive Subsets from [1,2,3....9,10]\n",
    "Such that <br> sum of all elements of one subsest = 36 &\n",
    "multiplication of all elements of other subset = 360."
   ]
  },
  {
   "cell_type": "code",
   "execution_count": 1189,
   "metadata": {},
   "outputs": [],
   "source": [
    "# Import Modules\n",
    "import numpy as np\n",
    "from numpy.random import randint\n",
    "from numpy.random import rand\n",
    "import matplotlib.pyplot as plt\n"
   ]
  },
  {
   "cell_type": "code",
   "execution_count": 1190,
   "metadata": {},
   "outputs": [],
   "source": [
    "# Objective Function\n",
    "def obj(chromosome):\n",
    "    sum = 0\n",
    "    multi = 1\n",
    "    for i in range(1, len(chromosome)+1):\n",
    "        if chromosome[i-1] == 1:\n",
    "            sum = sum + i\n",
    "        else:\n",
    "            multi = multi * i\n",
    "\n",
    "    return -(abs((36 - sum)) + abs((360 - multi)))\n"
   ]
  },
  {
   "cell_type": "code",
   "execution_count": 1191,
   "metadata": {},
   "outputs": [],
   "source": [
    "# Scores\n",
    "def scores(list):\n",
    "    return [obj(i) for i in list]\n"
   ]
  },
  {
   "cell_type": "code",
   "execution_count": 1192,
   "metadata": {},
   "outputs": [],
   "source": [
    "# Decode Chromosome\n",
    "def decode(chromosome):\n",
    "    sum = list()\n",
    "    multi = list()\n",
    "    for i in range(1, len(chromosome)+1):\n",
    "        if chromosome[i-1] == 1:\n",
    "            sum.append(i)\n",
    "        else:\n",
    "            multi.append(i)\n",
    "    return sum, multi\n"
   ]
  },
  {
   "cell_type": "code",
   "execution_count": 1193,
   "metadata": {},
   "outputs": [],
   "source": [
    "# Parameters\n",
    "no_bits = 10\n",
    "no_parent = 10\n"
   ]
  },
  {
   "cell_type": "code",
   "execution_count": 1194,
   "metadata": {},
   "outputs": [],
   "source": [
    "# Mating Pool by Roulette Selection\n",
    "def pool(parent):\n",
    "    p_roulette = [(obj(parent[i])/sum(scores(parent)))\n",
    "                  for i in range(no_parent)]\n",
    "    index = np.random.choice(no_parent, int(\n",
    "        no_parent/2), p=p_roulette.reverse())\n",
    "    return [parent[i] for i in index]\n"
   ]
  },
  {
   "cell_type": "code",
   "execution_count": 1195,
   "metadata": {},
   "outputs": [],
   "source": [
    "# Reproducton\n",
    "def crossover(parent1, parent2):\n",
    "    child1, child2 = parent1.copy(), parent2.copy()\n",
    "    if rand() < 0.8:\n",
    "        cross_point = randint(2, 7)\n",
    "        child1 = parent1[:cross_point] + parent2[cross_point:]\n",
    "        child2 = parent2[:cross_point] + parent1[cross_point:]\n",
    "    return [child1, child2]\n"
   ]
  },
  {
   "cell_type": "code",
   "execution_count": 1196,
   "metadata": {},
   "outputs": [],
   "source": [
    "# Mutation\n",
    "def mutation(chromosome):\n",
    "    for i in range(len(chromosome)):\n",
    "        if rand() < 0.1:\n",
    "            chromosome[i] = 1 - chromosome[i]\n"
   ]
  },
  {
   "cell_type": "code",
   "execution_count": 1197,
   "metadata": {},
   "outputs": [],
   "source": [
    "# Elitsm\n",
    "def Elitsm(children, grand_parent):\n",
    "    child_scores = [obj(i) for i in children]\n",
    "    grand_parent_scores = [obj(i) for i in grand_parent]\n",
    "    if max(child_scores) < min(grand_parent_scores):\n",
    "        children[child_scores.index(max(\n",
    "            child_scores))] = grand_parent[grand_parent_scores.index(min(grand_parent_scores))]\n",
    "    return children\n"
   ]
  },
  {
   "cell_type": "code",
   "execution_count": 1198,
   "metadata": {},
   "outputs": [],
   "source": [
    "# select an item except a specific value\n",
    "def choice_excluding(list, exception):\n",
    "    possible_choices = [v for v in list if v != exception]\n",
    "    return np.random.choice(possible_choices)\n"
   ]
  },
  {
   "cell_type": "code",
   "execution_count": 1199,
   "metadata": {},
   "outputs": [],
   "source": [
    "# Initial Population\n",
    "grand_parent = [randint(0, 2, no_bits).tolist() for i in range(no_parent)]\n",
    "\n",
    "# Set Iteration\n",
    "iter = 5000\n",
    "\n",
    "# Initialize lists for plot\n",
    "GL = []\n",
    "BSL = []\n",
    "ASL = []\n",
    "FSL = []\n"
   ]
  },
  {
   "cell_type": "code",
   "execution_count": 1200,
   "metadata": {},
   "outputs": [],
   "source": [
    "# Genetic Algorithm\n",
    "def genetic_algorithm(grand_parent, iter):\n",
    "    parent = grand_parent\n",
    "    best_chromosome, best_score = 0, obj(parent[0])\n",
    "    for gen in range(iter):\n",
    "        BSL.append(max(scores(parent)))\n",
    "        ASL.append(sum(scores(parent))/len(scores(parent)))\n",
    "        GL.append(gen)\n",
    "        for i in range(no_parent):\n",
    "            if scores(parent)[i] > best_score:\n",
    "                best_chromosome, best_score = parent[i], scores(parent)[i]\n",
    "                print('New best at - generation', gen, '\\n', 'chromosome -',\n",
    "                      parent[i], '\\t', 'score -', scores(parent)[i], '\\n')\n",
    "        fittest = pool(parent)\n",
    "        FSL.append(sum(scores(fittest))/len(scores(fittest)))\n",
    "        children = []\n",
    "        for i in range(len(fittest)):\n",
    "            not_i = choice_excluding(range(len(fittest)), i)\n",
    "            parent1, parent2 = fittest[i], fittest[not_i]\n",
    "            for j in crossover(parent1, parent2):\n",
    "                mutation(j)\n",
    "                children.append(j)\n",
    "        Elitsm(children, grand_parent)\n",
    "        parent = children\n",
    "        if best_score == 0:\n",
    "            break\n",
    "    plt.plot(GL, BSL, color='green', label='Best score of a generation')\n",
    "    plt.plot(GL, FSL, color='blue',\n",
    "             label='Average Score of Fittest Chromosomes of a generation')\n",
    "    plt.plot(GL, ASL, color='red', label='Average score of a Generation')\n",
    "    plt.xlabel('Generation')\n",
    "    plt.ylabel('Score')\n",
    "    plt.legend()\n",
    "    plt.show()\n",
    "    return best_chromosome\n"
   ]
  },
  {
   "cell_type": "code",
   "execution_count": 1201,
   "metadata": {},
   "outputs": [
    {
     "name": "stdout",
     "output_type": "stream",
     "text": [
      "New best at - generation 0 \n",
      " chromosome - [0, 1, 0, 0, 1, 1, 1, 1, 1, 0] \t score - -241 \n",
      "\n",
      "New best at - generation 0 \n",
      " chromosome - [0, 0, 0, 1, 1, 1, 1, 0, 1, 0] \t score - -125 \n",
      "\n",
      "New best at - generation 0 \n",
      " chromosome - [1, 1, 1, 1, 0, 1, 0, 0, 1, 1] \t score - -81 \n",
      "\n",
      "New best at - generation 2 \n",
      " chromosome - [0, 0, 1, 0, 0, 1, 1, 1, 1, 0] \t score - -43 \n",
      "\n",
      "New best at - generation 5 \n",
      " chromosome - [0, 1, 0, 0, 0, 0, 1, 1, 1, 1] \t score - 0 \n",
      "\n"
     ]
    },
    {
     "data": {
      "image/png": "[encoded data removed]",
      "text/plain": [
       "<Figure size 432x288 with 1 Axes>"
      ]
     },
     "metadata": {
      "needs_background": "light"
     },
     "output_type": "display_data"
    }
   ],
   "source": [
    "# Do the Magic\n",
    "best_chromosome = genetic_algorithm(grand_parent, iter)\n"
   ]
  },
  {
   "cell_type": "code",
   "execution_count": 1202,
   "metadata": {},
   "outputs": [
    {
     "name": "stdout",
     "output_type": "stream",
     "text": [
      "List of numbers to add =  [2, 7, 8, 9, 10] \n",
      " List of numbers to multiply =  [1, 3, 4, 5, 6]\n",
      "Summation =  36\n",
      "Multiplication =  360\n"
     ]
    }
   ],
   "source": [
    "# Answer\n",
    "print('List of numbers to add = ', decode(best_chromosome)[\n",
    "      0], '\\n', 'List of numbers to multiply = ', decode(best_chromosome)[1])\n",
    "print('Summation = ', sum(decode(best_chromosome)[0]))\n",
    "\n",
    "multi_best = 1\n",
    "for i in (decode(best_chromosome)[1]):\n",
    "    multi_best = multi_best * i\n",
    "print('Multiplication = ', multi_best)\n"
   ]
  }
 ],
 "metadata": {
  "kernelspec": {
   "display_name": "Python 3.10.4 ('DTS_VE')",
   "language": "python",
   "name": "python3"
  },
  "language_info": {
   "codemirror_mode": {
    "name": "ipython",
    "version": 3
   },
   "file_extension": ".py",
   "mimetype": "text/x-python",
   "name": "python",
   "nbconvert_exporter": "python",
   "pygments_lexer": "ipython3",
   "version": "3.10.4"
  },
  "orig_nbformat": 4,
  "vscode": {
   "interpreter": {
    "hash": "f03ad4ea5d4812996952075dc87545d5efef1a39f6df68a4f25f60a3ceac73ca"
   }
  }
 },
 "nbformat": 4,
 "nbformat_minor": 2
}
