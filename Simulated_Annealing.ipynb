{
 "cells": [
  {
   "cell_type": "markdown",
   "metadata": {},
   "source": [
    "**Find Global Maximum of the Function sin(x-3)/(x-3)**"
   ]
  },
  {
   "cell_type": "code",
   "execution_count": 1,
   "metadata": {
    "id": "fsnfKjLf7cYM",
    "pycharm": {
     "name": "#%%\n"
    }
   },
   "outputs": [],
   "source": [
    "# Import Modules\n",
    "import numpy as np\n",
    "from numpy import exp, random\n",
    "import matplotlib.pyplot as plt"
   ]
  },
  {
   "cell_type": "code",
   "execution_count": 2,
   "metadata": {
    "id": "SA2x7d2RNLL2",
    "pycharm": {
     "name": "#%%\n"
    }
   },
   "outputs": [],
   "source": [
    "# Define Purturb Function\n",
    "def purturb(num):\n",
    "    if random.rand() > 0.5:\n",
    "        num = num - random.rand()*10\n",
    "    else:\n",
    "        num = num + random.rand()*10\n",
    "    return num\n"
   ]
  },
  {
   "cell_type": "code",
   "execution_count": 3,
   "metadata": {
    "colab": {
     "base_uri": "https://localhost:8080/",
     "height": 301
    },
    "id": "zHc6R1ig7bj2",
    "outputId": "c9d52c3d-1cb2-49f7-db2b-a7da31adf38d",
    "pycharm": {
     "name": "#%%\n"
    }
   },
   "outputs": [
    {
     "data": {
      "image/png": "[encoded data removed]",
      "text/plain": [
       "<Figure size 432x288 with 1 Axes>"
      ]
     },
     "metadata": {
      "needs_background": "light"
     },
     "output_type": "display_data"
    }
   ],
   "source": [
    "# Define and plot the eg. function \n",
    "def f(x): return np.sin(x-3)/(x-3)\n",
    "list_x = np.arange(-25, 28, 0.0001)\n",
    "list_y = f(list_x)\n",
    "plt.plot(list_x, list_y)\n",
    "plt.show()\n"
   ]
  },
  {
   "cell_type": "code",
   "execution_count": 4,
   "metadata": {
    "id": "DniDxm2xAxxc",
    "pycharm": {
     "name": "#%%\n"
    }
   },
   "outputs": [],
   "source": [
    "# Set the Hyper-Parameters\n",
    "T_max = 500\n",
    "T_min = 1\n",
    "max_iter = 100\n",
    "a = .9\n",
    "state_o = random.rand()*100\n",
    "E_o = f(state_o)\n",
    "k = 1"
   ]
  },
  {
   "cell_type": "code",
   "execution_count": 5,
   "metadata": {
    "colab": {
     "base_uri": "https://localhost:8080/"
    },
    "id": "TpMiAWqkJJgR",
    "outputId": "c51e7530-a09b-427a-a703-23d3ab4a33e6",
    "pycharm": {
     "name": "#%%\n"
    }
   },
   "outputs": [
    {
     "name": "stdout",
     "output_type": "stream",
     "text": [
      "2.9955842707930733\n"
     ]
    }
   ],
   "source": [
    "# Simulated Annealing Algorithm \n",
    "\n",
    "T = T_max\n",
    "soA = []\n",
    "soB = []\n",
    "to = []\n",
    "while T > T_min:\n",
    "    x = 0\n",
    "    for i in range(max_iter):\n",
    "        state_n = purturb(state_o)\n",
    "        E_n = f(state_n)\n",
    "        delta_E = E_n - E_o\n",
    "        if delta_E > 0:\n",
    "            state_o = state_n\n",
    "            E_o = E_n\n",
    "        else:\n",
    "            r = random.rand()\n",
    "            if r > np.exp(-delta_E/(k*T)):\n",
    "                state_o = state_n\n",
    "                E_o = E_n\n",
    "        x = x + state_o\n",
    "    soA.append(x/max_iter)\n",
    "    soB.append(state_o)\n",
    "    T = a*T\n",
    "    to.append(T)\n",
    "\n",
    "print(state_o)\n"
   ]
  },
  {
   "cell_type": "code",
   "execution_count": 6,
   "metadata": {
    "collapsed": false,
    "pycharm": {
     "name": "#%%\n"
    }
   },
   "outputs": [
    {
     "data": {
      "image/png": "[encoded data removed]",
      "text/plain": [
       "<Figure size 432x288 with 1 Axes>"
      ]
     },
     "metadata": {
      "needs_background": "light"
     },
     "output_type": "display_data"
    }
   ],
   "source": [
    "# Plot the Best and Average State\n",
    "plt.plot(to,soA, color = 'blue', label='average state')\n",
    "plt.plot(to,soB, color = 'red', label='best state')\n",
    "plt.xlabel(\"Temp\")\n",
    "plt.ylabel(\"State\")\n",
    "plt.legend()\n",
    "plt.show()"
   ]
  }
 ],
 "metadata": {
  "colab": {
   "collapsed_sections": [],
   "name": "SA.ipynb",
   "provenance": []
  },
  "kernelspec": {
   "display_name": "DTS_VE",
   "language": "python",
   "name": "dts_ve"
  },
  "language_info": {
   "codemirror_mode": {
    "name": "ipython",
    "version": 3
   },
   "file_extension": ".py",
   "mimetype": "text/x-python",
   "name": "python",
   "nbconvert_exporter": "python",
   "pygments_lexer": "ipython3",
   "version": "3.10.4"
  },
  "vscode": {
   "interpreter": {
    "hash": "f03ad4ea5d4812996952075dc87545d5efef1a39f6df68a4f25f60a3ceac73ca"
   }
  }
 },
 "nbformat": 4,
 "nbformat_minor": 1
}
